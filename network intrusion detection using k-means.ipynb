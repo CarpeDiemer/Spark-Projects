{
 "cells": [
  {
   "cell_type": "code",
   "execution_count": 143,
   "metadata": {},
   "outputs": [],
   "source": [
    "from pyspark.sql.session import SparkSession\n",
    "from pyspark.sql.functions import col,mean,max,min,sum,log"
   ]
  },
  {
   "cell_type": "code",
   "execution_count": 2,
   "metadata": {},
   "outputs": [],
   "source": [
    "spark = SparkSession.builder.appName(\"k-means\").config(\"spark.executor.memory\", \"5g\").config(\"spark.driver.memory\", \"5g\").master(\"local[*]\").getOrCreate()"
   ]
  },
  {
   "cell_type": "markdown",
   "metadata": {},
   "source": [
    "#### one line of data means a TCP connection, sending several bytes and receiving several bytes."
   ]
  },
  {
   "cell_type": "code",
   "execution_count": 7,
   "metadata": {},
   "outputs": [],
   "source": [
    "#schema\n",
    "rawschema = '''\n",
    "duration: continuous.\n",
    "protocol_type: symbolic.\n",
    "service: symbolic.\n",
    "flag: symbolic.\n",
    "src_bytes: continuous.\n",
    "dst_bytes: continuous.\n",
    "land: symbolic.\n",
    "wrong_fragment: continuous.\n",
    "urgent: continuous.\n",
    "hot: continuous.\n",
    "num_failed_logins: continuous.\n",
    "logged_in: symbolic.\n",
    "num_compromised: continuous.\n",
    "root_shell: continuous.\n",
    "su_attempted: continuous.\n",
    "num_root: continuous.\n",
    "num_file_creations: continuous.\n",
    "num_shells: continuous.\n",
    "num_access_files: continuous.\n",
    "num_outbound_cmds: continuous.\n",
    "is_host_login: symbolic.\n",
    "is_guest_login: symbolic.\n",
    "count: continuous.\n",
    "srv_count: continuous.\n",
    "serror_rate: continuous.\n",
    "srv_serror_rate: continuous.\n",
    "rerror_rate: continuous.\n",
    "srv_rerror_rate: continuous.\n",
    "same_srv_rate: continuous.\n",
    "diff_srv_rate: continuous.\n",
    "srv_diff_host_rate: continuous.\n",
    "dst_host_count: continuous.\n",
    "dst_host_srv_count: continuous.\n",
    "dst_host_same_srv_rate: continuous.\n",
    "dst_host_diff_srv_rate: continuous.\n",
    "dst_host_same_src_port_rate: continuous.\n",
    "dst_host_srv_diff_host_rate: continuous.\n",
    "dst_host_serror_rate: continuous.\n",
    "dst_host_srv_serror_rate: continuous.\n",
    "dst_host_rerror_rate: continuous.\n",
    "dst_host_srv_rerror_rate: continuous.\n",
    "'''"
   ]
  },
  {
   "cell_type": "code",
   "execution_count": 52,
   "metadata": {},
   "outputs": [],
   "source": [
    "import re\n",
    "schema = re.sub(r': (\\w+.\\n)',',',rawschema).strip()"
   ]
  },
  {
   "cell_type": "code",
   "execution_count": 53,
   "metadata": {},
   "outputs": [],
   "source": [
    "schema = list(schema.split(','))"
   ]
  },
  {
   "cell_type": "code",
   "execution_count": 55,
   "metadata": {},
   "outputs": [],
   "source": [
    "schema[-1] = 'attack_type'"
   ]
  },
  {
   "cell_type": "code",
   "execution_count": 37,
   "metadata": {},
   "outputs": [],
   "source": [
    "rawdata = spark.read.csv('./kddcup.data.corrected',inferSchema=True)"
   ]
  },
  {
   "cell_type": "code",
   "execution_count": 39,
   "metadata": {
    "scrolled": true
   },
   "outputs": [
    {
     "data": {
      "text/plain": [
       "['_c0',\n",
       " '_c1',\n",
       " '_c2',\n",
       " '_c3',\n",
       " '_c4',\n",
       " '_c5',\n",
       " '_c6',\n",
       " '_c7',\n",
       " '_c8',\n",
       " '_c9',\n",
       " '_c10',\n",
       " '_c11',\n",
       " '_c12',\n",
       " '_c13',\n",
       " '_c14',\n",
       " '_c15',\n",
       " '_c16',\n",
       " '_c17',\n",
       " '_c18',\n",
       " '_c19',\n",
       " '_c20',\n",
       " '_c21',\n",
       " '_c22',\n",
       " '_c23',\n",
       " '_c24',\n",
       " '_c25',\n",
       " '_c26',\n",
       " '_c27',\n",
       " '_c28',\n",
       " '_c29',\n",
       " '_c30',\n",
       " '_c31',\n",
       " '_c32',\n",
       " '_c33',\n",
       " '_c34',\n",
       " '_c35',\n",
       " '_c36',\n",
       " '_c37',\n",
       " '_c38',\n",
       " '_c39',\n",
       " '_c40',\n",
       " '_c41']"
      ]
     },
     "execution_count": 39,
     "metadata": {},
     "output_type": "execute_result"
    }
   ],
   "source": [
    "rawdata.columns"
   ]
  },
  {
   "cell_type": "code",
   "execution_count": 56,
   "metadata": {},
   "outputs": [],
   "source": [
    "def rename_cols(df,schema):\n",
    "    for i,column in enumerate(df.columns):\n",
    "        new_column = schema[i]\n",
    "        df = df.withColumnRenamed(column, new_column)\n",
    "    return df"
   ]
  },
  {
   "cell_type": "code",
   "execution_count": 57,
   "metadata": {},
   "outputs": [],
   "source": [
    "rawdata = rename_cols(rawdata,schema)"
   ]
  },
  {
   "cell_type": "code",
   "execution_count": 58,
   "metadata": {},
   "outputs": [
    {
     "data": {
      "text/plain": [
       "Row(duration=0, protocol_type='tcp', service='http', flag='SF', src_bytes=215, dst_bytes=45076, land=0, wrong_fragment=0, urgent=0, hot=0, num_failed_logins=0, logged_in=1, num_compromised=0, root_shell=0, su_attempted=0, num_root=0, num_file_creations=0, num_shells=0, num_access_files=0, num_outbound_cmds=0, is_host_login=0, is_guest_login=0, count=1, srv_count=1, serror_rate=0.0, srv_serror_rate=0.0, rerror_rate=0.0, srv_rerror_rate=0.0, same_srv_rate=1.0, diff_srv_rate=0.0, srv_diff_host_rate=0.0, dst_host_count=0, dst_host_srv_count=0, dst_host_same_srv_rate=0.0, dst_host_diff_srv_rate=0.0, dst_host_same_src_port_rate=0.0, dst_host_srv_diff_host_rate=0.0, dst_host_serror_rate=0.0, dst_host_srv_serror_rate=0.0, dst_host_rerror_rate=0.0, dst_host_srv_rerror_rate=0.0, attack_type='normal.')"
      ]
     },
     "execution_count": 58,
     "metadata": {},
     "output_type": "execute_result"
    }
   ],
   "source": [
    "rawdata.head()"
   ]
  },
  {
   "cell_type": "code",
   "execution_count": 62,
   "metadata": {},
   "outputs": [],
   "source": [
    "from pyspark.sql.functions import col"
   ]
  },
  {
   "cell_type": "markdown",
   "metadata": {},
   "source": [
    "#### Different attacks by their names"
   ]
  },
  {
   "cell_type": "code",
   "execution_count": 64,
   "metadata": {},
   "outputs": [
    {
     "name": "stdout",
     "output_type": "stream",
     "text": [
      "+----------------+-------+\n",
      "|     attack_type|  count|\n",
      "+----------------+-------+\n",
      "|          smurf.|2807886|\n",
      "|        neptune.|1072017|\n",
      "|         normal.| 972781|\n",
      "|          satan.|  15892|\n",
      "|        ipsweep.|  12481|\n",
      "|      portsweep.|  10413|\n",
      "|           nmap.|   2316|\n",
      "|           back.|   2203|\n",
      "|    warezclient.|   1020|\n",
      "|       teardrop.|    979|\n",
      "|            pod.|    264|\n",
      "|   guess_passwd.|     53|\n",
      "|buffer_overflow.|     30|\n",
      "|           land.|     21|\n",
      "|    warezmaster.|     20|\n",
      "|           imap.|     12|\n",
      "|        rootkit.|     10|\n",
      "|     loadmodule.|      9|\n",
      "|      ftp_write.|      8|\n",
      "|       multihop.|      7|\n",
      "+----------------+-------+\n",
      "only showing top 20 rows\n",
      "\n"
     ]
    }
   ],
   "source": [
    "rawdata.groupBy('attack_type').count().sort(col('count'),ascending=False).show()"
   ]
  },
  {
   "cell_type": "markdown",
   "metadata": {},
   "source": [
    "#### using k-means only allows numeric type features, so filter the data"
   ]
  },
  {
   "cell_type": "code",
   "execution_count": 93,
   "metadata": {},
   "outputs": [],
   "source": [
    "numeric = rawdata.select(rawdata.columns[0:1] + rawdata.columns[4:])"
   ]
  },
  {
   "cell_type": "code",
   "execution_count": 94,
   "metadata": {},
   "outputs": [],
   "source": [
    "from pyspark.ml.clustering import KMeans"
   ]
  },
  {
   "cell_type": "code",
   "execution_count": 95,
   "metadata": {},
   "outputs": [],
   "source": [
    "kmeans = KMeans(k=2)"
   ]
  },
  {
   "cell_type": "markdown",
   "metadata": {},
   "source": [
    "#### transform the column into vectors"
   ]
  },
  {
   "cell_type": "code",
   "execution_count": 97,
   "metadata": {},
   "outputs": [],
   "source": [
    "from pyspark.ml.feature import VectorAssembler\n",
    "\n",
    "vecAssembler = VectorAssembler(inputCols=numeric.columns[:-1], outputCol=\"features\")\n",
    "new_df = vecAssembler.transform(numeric)"
   ]
  },
  {
   "cell_type": "code",
   "execution_count": 100,
   "metadata": {},
   "outputs": [],
   "source": [
    "model = kmeans.fit(new_df)"
   ]
  },
  {
   "cell_type": "code",
   "execution_count": 107,
   "metadata": {},
   "outputs": [
    {
     "name": "stdout",
     "output_type": "stream",
     "text": [
      "+----------------+----------+-------+\n",
      "|     attack_type|prediction|  count|\n",
      "+----------------+----------+-------+\n",
      "|          satan.|         0|  15892|\n",
      "|        neptune.|         0|1072017|\n",
      "|         normal.|         0| 972781|\n",
      "|      portsweep.|         1|      1|\n",
      "|        ipsweep.|         0|  12481|\n",
      "|    warezmaster.|         0|     20|\n",
      "|     loadmodule.|         0|      9|\n",
      "|      ftp_write.|         0|      8|\n",
      "|       teardrop.|         0|    979|\n",
      "|          smurf.|         0|2807886|\n",
      "|            phf.|         0|      4|\n",
      "|           back.|         0|   2203|\n",
      "|            spy.|         0|      2|\n",
      "|           nmap.|         0|   2316|\n",
      "|        rootkit.|         0|     10|\n",
      "|           imap.|         0|     12|\n",
      "|       multihop.|         0|      7|\n",
      "|      portsweep.|         0|  10412|\n",
      "|            pod.|         0|    264|\n",
      "|buffer_overflow.|         0|     30|\n",
      "+----------------+----------+-------+\n",
      "only showing top 20 rows\n",
      "\n"
     ]
    }
   ],
   "source": [
    "model.transform(new_df).groupby('attack_type','prediction').count().show()"
   ]
  },
  {
   "cell_type": "code",
   "execution_count": 108,
   "metadata": {},
   "outputs": [
    {
     "data": {
      "text/plain": [
       "4.663458567026278e+18"
      ]
     },
     "execution_count": 108,
     "metadata": {},
     "output_type": "execute_result"
    }
   ],
   "source": [
    "model.computeCost(new_df)"
   ]
  },
  {
   "cell_type": "markdown",
   "metadata": {},
   "source": [
    "#### not ideal result for k-means if k == 2, let's try different k's and evaluate every k's cost"
   ]
  },
  {
   "cell_type": "code",
   "execution_count": 111,
   "metadata": {},
   "outputs": [
    {
     "name": "stdout",
     "output_type": "stream",
     "text": [
      "cost k == 5:1.3862573792390758e+17\n",
      "cost k == 10:7309786388759979.0\n",
      "cost k == 15:3709690471461066.0\n",
      "cost k == 20:385018586702936.5\n",
      "cost k == 25:385018586702936.5\n",
      "cost k == 30:382534667588576.5\n",
      "cost k == 35:225090325069400.7\n"
     ]
    }
   ],
   "source": [
    "for k in range(5,40,5):\n",
    "    kmeans = KMeans(k=k)\n",
    "    model = kmeans.fit(new_df)\n",
    "    print('cost k == {0}:{1}'.format(k,model.computeCost(new_df)))"
   ]
  },
  {
   "cell_type": "code",
   "execution_count": 115,
   "metadata": {},
   "outputs": [
    {
     "name": "stdout",
     "output_type": "stream",
     "text": [
      "+----------+----------------+-------+\n",
      "|prediction|     attack_type|  count|\n",
      "+----------+----------------+-------+\n",
      "|         0|          smurf.|2807886|\n",
      "|         0|        neptune.|1072017|\n",
      "|         0|         normal.| 971538|\n",
      "|         0|          satan.|  15892|\n",
      "|         0|        ipsweep.|  12481|\n",
      "|         0|      portsweep.|  10402|\n",
      "|         0|           nmap.|   2316|\n",
      "|         0|           back.|   2203|\n",
      "|         0|       teardrop.|    979|\n",
      "|         0|    warezclient.|    960|\n",
      "|        10|         normal.|    650|\n",
      "|         0|            pod.|    264|\n",
      "|        19|         normal.|    241|\n",
      "|         9|         normal.|    178|\n",
      "|        21|         normal.|    144|\n",
      "|        14|    warezclient.|     59|\n",
      "|         0|   guess_passwd.|     53|\n",
      "|         0|buffer_overflow.|     30|\n",
      "|         0|           land.|     21|\n",
      "|        11|    warezmaster.|     15|\n",
      "+----------+----------------+-------+\n",
      "only showing top 20 rows\n",
      "\n"
     ]
    }
   ],
   "source": [
    "model.transform(new_df).groupby('prediction','attack_type').count().sort(col('count'),ascending=False).show() #clearly not good"
   ]
  },
  {
   "cell_type": "markdown",
   "metadata": {},
   "source": [
    "#### using entropy as a means to test whether a k is good or not"
   ]
  },
  {
   "cell_type": "code",
   "execution_count": 144,
   "metadata": {},
   "outputs": [],
   "source": [
    "def entropy(v,n):\n",
    "    p = v / n\n",
    "    entropy = -p * log(p)\n",
    "    return entropy"
   ]
  },
  {
   "cell_type": "code",
   "execution_count": 130,
   "metadata": {},
   "outputs": [],
   "source": [
    "temp = model.transform(new_df).groupby('prediction','attack_type').count().sort(col('count'),ascending=False)"
   ]
  },
  {
   "cell_type": "code",
   "execution_count": 131,
   "metadata": {},
   "outputs": [],
   "source": [
    "temp = temp.groupby('prediction').sum('count').sort(col('sum(count)'),ascending=False)"
   ]
  },
  {
   "cell_type": "code",
   "execution_count": 133,
   "metadata": {},
   "outputs": [
    {
     "name": "stdout",
     "output_type": "stream",
     "text": [
      "+----------+----------+\n",
      "|prediction|sum(count)|\n",
      "+----------+----------+\n",
      "|         0|   4897098|\n",
      "|        10|       653|\n",
      "|        19|       242|\n",
      "|         9|       179|\n",
      "|        21|       144|\n",
      "|        14|        61|\n",
      "|        11|        29|\n",
      "|        15|         6|\n",
      "|        13|         5|\n",
      "|        12|         2|\n",
      "|        16|         1|\n",
      "|        17|         1|\n",
      "|        20|         1|\n",
      "|         8|         1|\n",
      "|         3|         1|\n",
      "|         5|         1|\n",
      "|         1|         1|\n",
      "|         2|         1|\n",
      "|        18|         1|\n",
      "|         4|         1|\n",
      "+----------+----------+\n",
      "only showing top 20 rows\n",
      "\n"
     ]
    }
   ],
   "source": [
    "temp.show()"
   ]
  },
  {
   "cell_type": "code",
   "execution_count": 138,
   "metadata": {},
   "outputs": [],
   "source": [
    "temp2 = model.transform(new_df).groupby('prediction','attack_type').count()"
   ]
  },
  {
   "cell_type": "code",
   "execution_count": 140,
   "metadata": {},
   "outputs": [],
   "source": [
    "joined = temp2.join(temp,on='prediction')"
   ]
  },
  {
   "cell_type": "code",
   "execution_count": 147,
   "metadata": {},
   "outputs": [],
   "source": [
    "from pyspark.sql.functions import udf\n",
    "spark.udf.register(\"entropy\", entropy)\n",
    "final = joined.withColumn('entropy',entropy(col('count'),col('sum(count)')))"
   ]
  },
  {
   "cell_type": "code",
   "execution_count": 149,
   "metadata": {},
   "outputs": [
    {
     "name": "stdout",
     "output_type": "stream",
     "text": [
      "+----------+------------+-------+----------+--------------------+\n",
      "|prediction| attack_type|  count|sum(count)|             entropy|\n",
      "+----------+------------+-------+----------+--------------------+\n",
      "|        15|  portsweep.|      2|         6|  0.3662040962227032|\n",
      "|        11|     normal.|     14|        29|  0.3515634139723109|\n",
      "|        11|warezmaster.|     15|        29| 0.34098911838841234|\n",
      "|         0|    neptune.|1072017|   4897098|  0.3325442845877533|\n",
      "|         0|     normal.| 971538|   4897098|   0.320900233709089|\n",
      "|         0|      smurf.|2807886|   4897098|  0.3189188357605378|\n",
      "|        15|     normal.|      4|         6|  0.2703100720721096|\n",
      "|        14|     normal.|      2|        61| 0.11205661257748742|\n",
      "|        14|warezclient.|     59|        61| 0.03224342288176915|\n",
      "|         9|warezmaster.|      1|       179|  0.0289798089711774|\n",
      "|        19|warezclient.|      1|       242|0.022681560851887137|\n",
      "|         0|      satan.|  15892|   4897098| 0.01859681238407876|\n",
      "|        10|   multihop.|      2|       653| 0.01772872878626795|\n",
      "|         0|    ipsweep.|  12481|   4897098|0.015221037148283826|\n",
      "|         0|  portsweep.|  10402|   4897098|0.013072654145645886|\n",
      "|        10|       imap.|      1|       653|0.009925845527222713|\n",
      "|         9|     normal.|    178|       179|0.005570958031638222|\n",
      "|        10|     normal.|    650|       653|0.004583611257865...|\n",
      "|        19|     normal.|    241|       242|0.004123681952535...|\n",
      "|         0|       nmap.|   2316|   4897098|0.003621039412191...|\n",
      "+----------+------------+-------+----------+--------------------+\n",
      "only showing top 20 rows\n",
      "\n"
     ]
    }
   ],
   "source": [
    "final.sort(col('entropy'),ascending=False).show()"
   ]
  },
  {
   "cell_type": "markdown",
   "metadata": {},
   "source": [
    "#### calculate weighted average of entropy"
   ]
  },
  {
   "cell_type": "code",
   "execution_count": 151,
   "metadata": {},
   "outputs": [],
   "source": [
    "total = final.select(sum('sum(count)'))"
   ]
  },
  {
   "cell_type": "code",
   "execution_count": 165,
   "metadata": {},
   "outputs": [],
   "source": [
    "total = total.collect()[0][0]"
   ]
  },
  {
   "cell_type": "code",
   "execution_count": 171,
   "metadata": {},
   "outputs": [],
   "source": [
    "sum_entropy = final.groupby('prediction').sum('entropy','count').withColumn('weighted_average',col('sum(entropy)') * (col('sum(count)'))/total).select(sum('weighted_average'))"
   ]
  },
  {
   "cell_type": "code",
   "execution_count": 173,
   "metadata": {},
   "outputs": [
    {
     "name": "stdout",
     "output_type": "stream",
     "text": [
      "+---------------------+\n",
      "|sum(weighted_average)|\n",
      "+---------------------+\n",
      "|  0.04481029177741765|\n",
      "+---------------------+\n",
      "\n"
     ]
    }
   ],
   "source": [
    "sum_entropy.show()"
   ]
  },
  {
   "cell_type": "markdown",
   "metadata": {},
   "source": [
    "#### test with various k"
   ]
  },
  {
   "cell_type": "code",
   "execution_count": 175,
   "metadata": {},
   "outputs": [
    {
     "name": "stdout",
     "output_type": "stream",
     "text": [
      "cost k == 80:0.04434824524422834\n",
      "cost k == 90:0.04434538917913914\n",
      "cost k == 100:0.044246099294903876\n",
      "cost k == 110:0.044246099294903876\n",
      "cost k == 120:0.045606471446412555\n",
      "cost k == 130:0.045406606880109696\n",
      "cost k == 140:0.045406606880109696\n"
     ]
    }
   ],
   "source": [
    "for k in range(80,150,10):\n",
    "    kmeans = KMeans(k=k)\n",
    "    model = kmeans.fit(new_df)\n",
    "    temp = model.transform(new_df).groupby('prediction','attack_type').count().sort(col('count'),ascending=False)\n",
    "    temp = temp.groupby('prediction').sum('count').sort(col('sum(count)'),ascending=False)\n",
    "    temp2 = model.transform(new_df).groupby('prediction','attack_type').count()\n",
    "    joined = temp2.join(temp,on='prediction')\n",
    "    final = joined.withColumn('entropy',entropy(col('count'),col('sum(count)')))\n",
    "    total = final.select(sum('sum(count)'))\n",
    "    total = total.collect()[0][0]\n",
    "    sum_entropy = final.groupby('prediction').sum('entropy','count').withColumn('weighted_average',col('sum(entropy)') * (col('sum(count)'))/total).select(sum('weighted_average'))\n",
    "    sum_entropy = sum_entropy.collect()[0][0]\n",
    "    print('cost k == {0}:{1}'.format(k,sum_entropy))"
   ]
  },
  {
   "cell_type": "markdown",
   "metadata": {},
   "source": [
    "#### k=110 seems good fit"
   ]
  },
  {
   "cell_type": "code",
   "execution_count": 176,
   "metadata": {},
   "outputs": [],
   "source": [
    "kmeans = KMeans(k=110)\n",
    "model = kmeans.fit(new_df)"
   ]
  },
  {
   "cell_type": "code",
   "execution_count": 180,
   "metadata": {},
   "outputs": [
    {
     "name": "stdout",
     "output_type": "stream",
     "text": [
      "+----------+-------------+-------+\n",
      "|prediction|  attack_type|  count|\n",
      "+----------+-------------+-------+\n",
      "|         0|       smurf.|2807886|\n",
      "|         0|     neptune.|1072017|\n",
      "|         0|      normal.| 918540|\n",
      "|        32|      normal.|  51368|\n",
      "|         0|       satan.|  15891|\n",
      "|         0|     ipsweep.|  12480|\n",
      "|         0|   portsweep.|  10402|\n",
      "|         0|        nmap.|   2316|\n",
      "|        16|        back.|   2189|\n",
      "|        16|      normal.|   1378|\n",
      "|         0|    teardrop.|    979|\n",
      "|         0| warezclient.|    960|\n",
      "|        30|      normal.|    686|\n",
      "|         0|         pod.|    264|\n",
      "|        18|      normal.|    216|\n",
      "|        11|      normal.|    141|\n",
      "|        13|      normal.|     97|\n",
      "|        79|      normal.|     60|\n",
      "|         0|guess_passwd.|     53|\n",
      "|        17|      normal.|     38|\n",
      "+----------+-------------+-------+\n",
      "only showing top 20 rows\n",
      "\n"
     ]
    }
   ],
   "source": [
    "model.transform(new_df).groupby('prediction','attack_type').count().sort(col('count'),ascending=False).show() #clearly not good"
   ]
  },
  {
   "cell_type": "markdown",
   "metadata": {},
   "source": [
    "#### we can start building a network intrusion detection system, when we get a new data point, we try to calculate the most closest centroid, if the distance is above a threshold, then we pinpoint the data point as anomalous"
   ]
  }
 ],
 "metadata": {
  "kernelspec": {
   "display_name": "Python 3",
   "language": "python",
   "name": "python3"
  },
  "language_info": {
   "codemirror_mode": {
    "name": "ipython",
    "version": 3
   },
   "file_extension": ".py",
   "mimetype": "text/x-python",
   "name": "python",
   "nbconvert_exporter": "python",
   "pygments_lexer": "ipython3",
   "version": "3.7.0"
  }
 },
 "nbformat": 4,
 "nbformat_minor": 2
}
