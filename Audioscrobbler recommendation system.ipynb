{
 "cells": [
  {
   "cell_type": "code",
   "execution_count": 3,
   "metadata": {},
   "outputs": [],
   "source": [
    "from pyspark.sql.session import SparkSession\n",
    "from pyspark.sql.functions import col,mean,max,min"
   ]
  },
  {
   "cell_type": "code",
   "execution_count": 6,
   "metadata": {},
   "outputs": [],
   "source": [
    "spark = SparkSession.builder.appName(\"rec\").config(\"spark.executor.memory\", \"5g\").config(\"spark.driver.memory\", \"5g\").master(\"local[*]\").getOrCreate()"
   ]
  },
  {
   "cell_type": "code",
   "execution_count": 7,
   "metadata": {},
   "outputs": [],
   "source": [
    "artists = spark.read.csv('artist_data.txt',inferSchema=True,sep='\\t')"
   ]
  },
  {
   "cell_type": "code",
   "execution_count": 8,
   "metadata": {},
   "outputs": [],
   "source": [
    "artists = artists.select(col(\"_c0\").alias(\"artist_id\"), col(\"_c1\").alias(\"artist_name\"))"
   ]
  },
  {
   "cell_type": "code",
   "execution_count": 9,
   "metadata": {},
   "outputs": [],
   "source": [
    "aliases = spark.read.csv('artist_alias.txt',inferSchema=True,sep='\\t')"
   ]
  },
  {
   "cell_type": "code",
   "execution_count": 10,
   "metadata": {},
   "outputs": [],
   "source": [
    "aliases = aliases.select(col(\"_c0\").alias(\"wrong_id\"), col(\"_c1\").alias(\"correct_id\"))"
   ]
  },
  {
   "cell_type": "code",
   "execution_count": 11,
   "metadata": {},
   "outputs": [],
   "source": [
    "listen_counts = spark.read.csv('user_artist_data.txt',inferSchema=True,sep=' ')"
   ]
  },
  {
   "cell_type": "code",
   "execution_count": 12,
   "metadata": {},
   "outputs": [],
   "source": [
    "listen_counts = listen_counts.select(col(\"_c0\").alias(\"user_id\"), col(\"_c1\").alias(\"artist_id\"), col('_c2').alias('counts'))"
   ]
  },
  {
   "cell_type": "code",
   "execution_count": 13,
   "metadata": {},
   "outputs": [
    {
     "name": "stdout",
     "output_type": "stream",
     "text": [
      "+-----------------+-----------+-----------+\n",
      "|      avg(counts)|max(counts)|min(counts)|\n",
      "+-----------------+-----------+-----------+\n",
      "|15.29576248089362|     439771|          1|\n",
      "+-----------------+-----------+-----------+\n",
      "\n"
     ]
    }
   ],
   "source": [
    "listen_counts.select(mean('counts'),max('counts'),min('counts')).show()"
   ]
  },
  {
   "cell_type": "code",
   "execution_count": 14,
   "metadata": {},
   "outputs": [
    {
     "data": {
      "text/plain": [
       "1848671"
      ]
     },
     "execution_count": 14,
     "metadata": {},
     "output_type": "execute_result"
    }
   ],
   "source": [
    "artists.count()"
   ]
  },
  {
   "cell_type": "code",
   "execution_count": 15,
   "metadata": {},
   "outputs": [],
   "source": [
    "correct_artists = artists.join(aliases,artists.artist_id==aliases.correct_id,how='left').filter(col('wrong_id').isNotNull()).select('correct_id','wrong_id',col('artist_name').alias('true_name'))"
   ]
  },
  {
   "cell_type": "code",
   "execution_count": 16,
   "metadata": {},
   "outputs": [
    {
     "data": {
      "text/plain": [
       "[Row(correct_id=1240105, wrong_id=2078895, true_name='André Visior'),\n",
       " Row(correct_id=1240105, wrong_id=1081871, true_name='André Visior'),\n",
       " Row(correct_id=6950366, wrong_id=2009391, true_name='the.5th.element'),\n",
       " Row(correct_id=1030848, wrong_id=6664739, true_name=\"Raver's Nature\"),\n",
       " Row(correct_id=1030848, wrong_id=6802865, true_name=\"Raver's Nature\"),\n",
       " Row(correct_id=1030848, wrong_id=1107458, true_name=\"Raver's Nature\"),\n",
       " Row(correct_id=6671603, wrong_id=10052273, true_name='サエキトモ'),\n",
       " Row(correct_id=1147788, wrong_id=1106359, true_name='Mog Stunt Team'),\n",
       " Row(correct_id=1240185, wrong_id=1287345, true_name='Lexy & K. Paul'),\n",
       " Row(correct_id=1240185, wrong_id=1236792, true_name='Lexy & K. Paul')]"
      ]
     },
     "execution_count": 16,
     "metadata": {},
     "output_type": "execute_result"
    }
   ],
   "source": [
    "correct_artists.head(10)"
   ]
  },
  {
   "cell_type": "code",
   "execution_count": 17,
   "metadata": {},
   "outputs": [],
   "source": [
    "from pyspark.sql.functions import udf\n",
    "from pyspark.sql.types import StringType\n",
    "wrong_to_correct = udf(lambda artist_name,true_name: artist_name if true_name == None else true_name, StringType())"
   ]
  },
  {
   "cell_type": "code",
   "execution_count": 18,
   "metadata": {},
   "outputs": [],
   "source": [
    "temp = artists.join(correct_artists,artists.artist_id==correct_artists.wrong_id,how='left')"
   ]
  },
  {
   "cell_type": "code",
   "execution_count": 19,
   "metadata": {},
   "outputs": [],
   "source": [
    "artists = temp.withColumn('name',wrong_to_correct(temp.artist_name,temp.true_name)).select('artist_id','name')"
   ]
  },
  {
   "cell_type": "code",
   "execution_count": 20,
   "metadata": {},
   "outputs": [
    {
     "data": {
      "text/plain": [
       "[Row(artist_id='148', name='P.O.D.'),\n",
       " Row(artist_id='463', name='The Smiths'),\n",
       " Row(artist_id='471', name='The Beta Band'),\n",
       " Row(artist_id='496', name='DJ Hell'),\n",
       " Row(artist_id='833', name='Otis Redding'),\n",
       " Row(artist_id='1088', name='Cash Money & Marvelous'),\n",
       " Row(artist_id='1342', name='The Peechees'),\n",
       " Row(artist_id='1580', name='Bang The Party'),\n",
       " Row(artist_id='1645', name='Oz Artists'),\n",
       " Row(artist_id='1829', name='Agent Provocateur')]"
      ]
     },
     "execution_count": 20,
     "metadata": {},
     "output_type": "execute_result"
    }
   ],
   "source": [
    "artists.head(10)"
   ]
  },
  {
   "cell_type": "code",
   "execution_count": 21,
   "metadata": {},
   "outputs": [],
   "source": [
    "from pyspark.mllib.recommendation import ALS"
   ]
  },
  {
   "cell_type": "code",
   "execution_count": 22,
   "metadata": {},
   "outputs": [],
   "source": [
    "model = ALS.trainImplicit(listen_counts,10)"
   ]
  },
  {
   "cell_type": "code",
   "execution_count": 58,
   "metadata": {},
   "outputs": [
    {
     "name": "stdout",
     "output_type": "stream",
     "text": [
      "+-------+--------------+------+---------+--------------------+\n",
      "|user_id|left_artist_id|counts|artist_id|                name|\n",
      "+-------+--------------+------+---------+--------------------+\n",
      "|1000002|           833|     5|      833|        Otis Redding|\n",
      "|1000002|       1001129|    23|  1001129|Hootie & the Blow...|\n",
      "|1000002|       1003373|     3|  1003373|        Thom Rotella|\n",
      "|1000002|       1007972|     1|  1007972|     Archers of Loaf|\n",
      "|1000002|       1029443|    18|  1029443|Meanwhile, Back I...|\n",
      "|1000002|       1076507|     1|  1076507|Run-D.M.C. vs. Ja...|\n",
      "|1000002|       1318111|    23|  1318111|Joni Mitchell & J...|\n",
      "|1000002|       1001307|     1|  1001307|           Eiffel 65|\n",
      "|1000002|       1003926|    35|  1003926|     Collective Soul|\n",
      "|1000002|          1270|    26|     1270|               Queen|\n",
      "|1000002|          1303|     5|     1303|           The Kinks|\n",
      "|1000002|       1001410|     5|  1001410|           [unknown]|\n",
      "|1000002|       1235281|     6|  1235281|             The Who|\n",
      "|1000002|          1265|     2|     1265|         Paul Weller|\n",
      "|1000002|       1002401|     3|  1002401|              Divers|\n",
      "|1000002|       1006304|     1|  1006304|         Mungo Jerry|\n",
      "|1000002|       1317025|     3|  1317025|US3 feat Rahsaan ...|\n",
      "|1000002|          1223|    89|     1223|        Jimi Hendrix|\n",
      "|1000002|       1000127|    53|  1000127|          Audioslave|\n",
      "|1000002|       1000639|     3|  1000639|     Alice in Chains|\n",
      "+-------+--------------+------+---------+--------------------+\n",
      "only showing top 20 rows\n",
      "\n"
     ]
    }
   ],
   "source": [
    "listen_counts.filter(col('user_id')==1000002).withColumnRenamed('artist_id','left_artist_id').join(artists,col('left_artist_id')==artists.artist_id).show()"
   ]
  },
  {
   "cell_type": "code",
   "execution_count": 59,
   "metadata": {},
   "outputs": [
    {
     "name": "stdout",
     "output_type": "stream",
     "text": [
      "+---------+-----------+\n",
      "|artist_id|       name|\n",
      "+---------+-----------+\n",
      "|  1000113|The Beatles|\n",
      "+---------+-----------+\n",
      "\n",
      "+---------+-----+\n",
      "|artist_id| name|\n",
      "+---------+-----+\n",
      "|     1270|Queen|\n",
      "+---------+-----+\n",
      "\n",
      "+---------+----------+\n",
      "|artist_id|      name|\n",
      "+---------+----------+\n",
      "|       82|Pink Floyd|\n",
      "+---------+----------+\n",
      "\n",
      "+---------+------------+\n",
      "|artist_id|        name|\n",
      "+---------+------------+\n",
      "|     1394|Led Zeppelin|\n",
      "+---------+------------+\n",
      "\n",
      "+---------+----+\n",
      "|artist_id|name|\n",
      "+---------+----+\n",
      "|     1205|  U2|\n",
      "+---------+----+\n",
      "\n"
     ]
    }
   ],
   "source": [
    "for rec in model.recommendProducts(1000002,5):\n",
    "    artists.filter(col('artist_id')== rec[1]).show()"
   ]
  },
  {
   "cell_type": "code",
   "execution_count": 40,
   "metadata": {},
   "outputs": [
    {
     "data": {
      "text/plain": [
       "[Rating(user=2093760, product=1007614, rating=0.03323218874594814),\n",
       " Rating(user=2093760, product=4605, rating=0.030922344161561355),\n",
       " Rating(user=2093760, product=2814, rating=0.03076250545533085),\n",
       " Rating(user=2093760, product=829, rating=0.029528970564163405),\n",
       " Rating(user=2093760, product=1037970, rating=0.02865586575534429)]"
      ]
     },
     "execution_count": 40,
     "metadata": {},
     "output_type": "execute_result"
    }
   ],
   "source": [
    "model.recommendProducts(2093760,5)"
   ]
  },
  {
   "cell_type": "code",
   "execution_count": 56,
   "metadata": {},
   "outputs": [
    {
     "data": {
      "text/plain": [
       "[Row(user_id=1000019, artist_id=1000010, counts=11),\n",
       " Row(user_id=1000019, artist_id=1000028, counts=5),\n",
       " Row(user_id=1000019, artist_id=1000033, counts=2),\n",
       " Row(user_id=1000019, artist_id=1000036, counts=5),\n",
       " Row(user_id=1000019, artist_id=1000054, counts=1),\n",
       " Row(user_id=1000019, artist_id=1000055, counts=1),\n",
       " Row(user_id=1000019, artist_id=1000062, counts=1),\n",
       " Row(user_id=1000019, artist_id=1000069, counts=3),\n",
       " Row(user_id=1000019, artist_id=1000071, counts=2),\n",
       " Row(user_id=1000019, artist_id=1000076, counts=10)]"
      ]
     },
     "execution_count": 56,
     "metadata": {},
     "output_type": "execute_result"
    }
   ],
   "source": [
    "listen_counts.filter(col('user_id')!=100000).head(10)"
   ]
  },
  {
   "cell_type": "code",
   "execution_count": null,
   "metadata": {},
   "outputs": [],
   "source": []
  }
 ],
 "metadata": {
  "kernelspec": {
   "display_name": "Python 3",
   "language": "python",
   "name": "python3"
  },
  "language_info": {
   "codemirror_mode": {
    "name": "ipython",
    "version": 3
   },
   "file_extension": ".py",
   "mimetype": "text/x-python",
   "name": "python",
   "nbconvert_exporter": "python",
   "pygments_lexer": "ipython3",
   "version": "3.7.0"
  }
 },
 "nbformat": 4,
 "nbformat_minor": 2
}
